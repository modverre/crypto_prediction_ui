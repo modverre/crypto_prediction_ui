{
 "cells": [
  {
   "cell_type": "code",
   "execution_count": 4,
   "metadata": {},
   "outputs": [],
   "source": [
    "import plotly.graph_objects as go\n",
    "import pandas as pd"
   ]
  },
  {
   "cell_type": "code",
   "execution_count": 25,
   "metadata": {},
   "outputs": [
    {
     "data": {
      "application/vnd.plotly.v1+json": {
       "config": {
        "plotlyServerURL": "https://plot.ly"
       },
       "data": [
        {
         "line": {
          "color": "firebrick",
          "width": 3
         },
         "name": "Historical",
         "type": "scatter",
         "x": [
          1,
          2,
          3,
          4,
          5,
          6,
          7,
          8,
          9,
          10
         ],
         "y": [
          28.8,
          28.5,
          37,
          56.8,
          69.7,
          79.7,
          78.5,
          77.8,
          74.1,
          62.6
         ]
        },
        {
         "line": {
          "color": "orange",
          "width": 2
         },
         "name": "Predicted",
         "type": "scatter",
         "x": [
          10,
          11,
          12
         ],
         "y": [
          62.6,
          45.3,
          39.9
         ]
        }
       ],
       "layout": {
        "template": {
         "data": {
          "bar": [
           {
            "error_x": {
             "color": "#2a3f5f"
            },
            "error_y": {
             "color": "#2a3f5f"
            },
            "marker": {
             "line": {
              "color": "#E5ECF6",
              "width": 0.5
             }
            },
            "type": "bar"
           }
          ],
          "barpolar": [
           {
            "marker": {
             "line": {
              "color": "#E5ECF6",
              "width": 0.5
             }
            },
            "type": "barpolar"
           }
          ],
          "carpet": [
           {
            "aaxis": {
             "endlinecolor": "#2a3f5f",
             "gridcolor": "white",
             "linecolor": "white",
             "minorgridcolor": "white",
             "startlinecolor": "#2a3f5f"
            },
            "baxis": {
             "endlinecolor": "#2a3f5f",
             "gridcolor": "white",
             "linecolor": "white",
             "minorgridcolor": "white",
             "startlinecolor": "#2a3f5f"
            },
            "type": "carpet"
           }
          ],
          "choropleth": [
           {
            "colorbar": {
             "outlinewidth": 0,
             "ticks": ""
            },
            "type": "choropleth"
           }
          ],
          "contour": [
           {
            "colorbar": {
             "outlinewidth": 0,
             "ticks": ""
            },
            "colorscale": [
             [
              0,
              "#0d0887"
             ],
             [
              0.1111111111111111,
              "#46039f"
             ],
             [
              0.2222222222222222,
              "#7201a8"
             ],
             [
              0.3333333333333333,
              "#9c179e"
             ],
             [
              0.4444444444444444,
              "#bd3786"
             ],
             [
              0.5555555555555556,
              "#d8576b"
             ],
             [
              0.6666666666666666,
              "#ed7953"
             ],
             [
              0.7777777777777778,
              "#fb9f3a"
             ],
             [
              0.8888888888888888,
              "#fdca26"
             ],
             [
              1,
              "#f0f921"
             ]
            ],
            "type": "contour"
           }
          ],
          "contourcarpet": [
           {
            "colorbar": {
             "outlinewidth": 0,
             "ticks": ""
            },
            "type": "contourcarpet"
           }
          ],
          "heatmap": [
           {
            "colorbar": {
             "outlinewidth": 0,
             "ticks": ""
            },
            "colorscale": [
             [
              0,
              "#0d0887"
             ],
             [
              0.1111111111111111,
              "#46039f"
             ],
             [
              0.2222222222222222,
              "#7201a8"
             ],
             [
              0.3333333333333333,
              "#9c179e"
             ],
             [
              0.4444444444444444,
              "#bd3786"
             ],
             [
              0.5555555555555556,
              "#d8576b"
             ],
             [
              0.6666666666666666,
              "#ed7953"
             ],
             [
              0.7777777777777778,
              "#fb9f3a"
             ],
             [
              0.8888888888888888,
              "#fdca26"
             ],
             [
              1,
              "#f0f921"
             ]
            ],
            "type": "heatmap"
           }
          ],
          "heatmapgl": [
           {
            "colorbar": {
             "outlinewidth": 0,
             "ticks": ""
            },
            "colorscale": [
             [
              0,
              "#0d0887"
             ],
             [
              0.1111111111111111,
              "#46039f"
             ],
             [
              0.2222222222222222,
              "#7201a8"
             ],
             [
              0.3333333333333333,
              "#9c179e"
             ],
             [
              0.4444444444444444,
              "#bd3786"
             ],
             [
              0.5555555555555556,
              "#d8576b"
             ],
             [
              0.6666666666666666,
              "#ed7953"
             ],
             [
              0.7777777777777778,
              "#fb9f3a"
             ],
             [
              0.8888888888888888,
              "#fdca26"
             ],
             [
              1,
              "#f0f921"
             ]
            ],
            "type": "heatmapgl"
           }
          ],
          "histogram": [
           {
            "marker": {
             "colorbar": {
              "outlinewidth": 0,
              "ticks": ""
             }
            },
            "type": "histogram"
           }
          ],
          "histogram2d": [
           {
            "colorbar": {
             "outlinewidth": 0,
             "ticks": ""
            },
            "colorscale": [
             [
              0,
              "#0d0887"
             ],
             [
              0.1111111111111111,
              "#46039f"
             ],
             [
              0.2222222222222222,
              "#7201a8"
             ],
             [
              0.3333333333333333,
              "#9c179e"
             ],
             [
              0.4444444444444444,
              "#bd3786"
             ],
             [
              0.5555555555555556,
              "#d8576b"
             ],
             [
              0.6666666666666666,
              "#ed7953"
             ],
             [
              0.7777777777777778,
              "#fb9f3a"
             ],
             [
              0.8888888888888888,
              "#fdca26"
             ],
             [
              1,
              "#f0f921"
             ]
            ],
            "type": "histogram2d"
           }
          ],
          "histogram2dcontour": [
           {
            "colorbar": {
             "outlinewidth": 0,
             "ticks": ""
            },
            "colorscale": [
             [
              0,
              "#0d0887"
             ],
             [
              0.1111111111111111,
              "#46039f"
             ],
             [
              0.2222222222222222,
              "#7201a8"
             ],
             [
              0.3333333333333333,
              "#9c179e"
             ],
             [
              0.4444444444444444,
              "#bd3786"
             ],
             [
              0.5555555555555556,
              "#d8576b"
             ],
             [
              0.6666666666666666,
              "#ed7953"
             ],
             [
              0.7777777777777778,
              "#fb9f3a"
             ],
             [
              0.8888888888888888,
              "#fdca26"
             ],
             [
              1,
              "#f0f921"
             ]
            ],
            "type": "histogram2dcontour"
           }
          ],
          "mesh3d": [
           {
            "colorbar": {
             "outlinewidth": 0,
             "ticks": ""
            },
            "type": "mesh3d"
           }
          ],
          "parcoords": [
           {
            "line": {
             "colorbar": {
              "outlinewidth": 0,
              "ticks": ""
             }
            },
            "type": "parcoords"
           }
          ],
          "pie": [
           {
            "automargin": true,
            "type": "pie"
           }
          ],
          "scatter": [
           {
            "marker": {
             "colorbar": {
              "outlinewidth": 0,
              "ticks": ""
             }
            },
            "type": "scatter"
           }
          ],
          "scatter3d": [
           {
            "line": {
             "colorbar": {
              "outlinewidth": 0,
              "ticks": ""
             }
            },
            "marker": {
             "colorbar": {
              "outlinewidth": 0,
              "ticks": ""
             }
            },
            "type": "scatter3d"
           }
          ],
          "scattercarpet": [
           {
            "marker": {
             "colorbar": {
              "outlinewidth": 0,
              "ticks": ""
             }
            },
            "type": "scattercarpet"
           }
          ],
          "scattergeo": [
           {
            "marker": {
             "colorbar": {
              "outlinewidth": 0,
              "ticks": ""
             }
            },
            "type": "scattergeo"
           }
          ],
          "scattergl": [
           {
            "marker": {
             "colorbar": {
              "outlinewidth": 0,
              "ticks": ""
             }
            },
            "type": "scattergl"
           }
          ],
          "scattermapbox": [
           {
            "marker": {
             "colorbar": {
              "outlinewidth": 0,
              "ticks": ""
             }
            },
            "type": "scattermapbox"
           }
          ],
          "scatterpolar": [
           {
            "marker": {
             "colorbar": {
              "outlinewidth": 0,
              "ticks": ""
             }
            },
            "type": "scatterpolar"
           }
          ],
          "scatterpolargl": [
           {
            "marker": {
             "colorbar": {
              "outlinewidth": 0,
              "ticks": ""
             }
            },
            "type": "scatterpolargl"
           }
          ],
          "scatterternary": [
           {
            "marker": {
             "colorbar": {
              "outlinewidth": 0,
              "ticks": ""
             }
            },
            "type": "scatterternary"
           }
          ],
          "surface": [
           {
            "colorbar": {
             "outlinewidth": 0,
             "ticks": ""
            },
            "colorscale": [
             [
              0,
              "#0d0887"
             ],
             [
              0.1111111111111111,
              "#46039f"
             ],
             [
              0.2222222222222222,
              "#7201a8"
             ],
             [
              0.3333333333333333,
              "#9c179e"
             ],
             [
              0.4444444444444444,
              "#bd3786"
             ],
             [
              0.5555555555555556,
              "#d8576b"
             ],
             [
              0.6666666666666666,
              "#ed7953"
             ],
             [
              0.7777777777777778,
              "#fb9f3a"
             ],
             [
              0.8888888888888888,
              "#fdca26"
             ],
             [
              1,
              "#f0f921"
             ]
            ],
            "type": "surface"
           }
          ],
          "table": [
           {
            "cells": {
             "fill": {
              "color": "#EBF0F8"
             },
             "line": {
              "color": "white"
             }
            },
            "header": {
             "fill": {
              "color": "#C8D4E3"
             },
             "line": {
              "color": "white"
             }
            },
            "type": "table"
           }
          ]
         },
         "layout": {
          "annotationdefaults": {
           "arrowcolor": "#2a3f5f",
           "arrowhead": 0,
           "arrowwidth": 1
          },
          "coloraxis": {
           "colorbar": {
            "outlinewidth": 0,
            "ticks": ""
           }
          },
          "colorscale": {
           "diverging": [
            [
             0,
             "#8e0152"
            ],
            [
             0.1,
             "#c51b7d"
            ],
            [
             0.2,
             "#de77ae"
            ],
            [
             0.3,
             "#f1b6da"
            ],
            [
             0.4,
             "#fde0ef"
            ],
            [
             0.5,
             "#f7f7f7"
            ],
            [
             0.6,
             "#e6f5d0"
            ],
            [
             0.7,
             "#b8e186"
            ],
            [
             0.8,
             "#7fbc41"
            ],
            [
             0.9,
             "#4d9221"
            ],
            [
             1,
             "#276419"
            ]
           ],
           "sequential": [
            [
             0,
             "#0d0887"
            ],
            [
             0.1111111111111111,
             "#46039f"
            ],
            [
             0.2222222222222222,
             "#7201a8"
            ],
            [
             0.3333333333333333,
             "#9c179e"
            ],
            [
             0.4444444444444444,
             "#bd3786"
            ],
            [
             0.5555555555555556,
             "#d8576b"
            ],
            [
             0.6666666666666666,
             "#ed7953"
            ],
            [
             0.7777777777777778,
             "#fb9f3a"
            ],
            [
             0.8888888888888888,
             "#fdca26"
            ],
            [
             1,
             "#f0f921"
            ]
           ],
           "sequentialminus": [
            [
             0,
             "#0d0887"
            ],
            [
             0.1111111111111111,
             "#46039f"
            ],
            [
             0.2222222222222222,
             "#7201a8"
            ],
            [
             0.3333333333333333,
             "#9c179e"
            ],
            [
             0.4444444444444444,
             "#bd3786"
            ],
            [
             0.5555555555555556,
             "#d8576b"
            ],
            [
             0.6666666666666666,
             "#ed7953"
            ],
            [
             0.7777777777777778,
             "#fb9f3a"
            ],
            [
             0.8888888888888888,
             "#fdca26"
            ],
            [
             1,
             "#f0f921"
            ]
           ]
          },
          "colorway": [
           "#636efa",
           "#EF553B",
           "#00cc96",
           "#ab63fa",
           "#FFA15A",
           "#19d3f3",
           "#FF6692",
           "#B6E880",
           "#FF97FF",
           "#FECB52"
          ],
          "font": {
           "color": "#2a3f5f"
          },
          "geo": {
           "bgcolor": "white",
           "lakecolor": "white",
           "landcolor": "#E5ECF6",
           "showlakes": true,
           "showland": true,
           "subunitcolor": "white"
          },
          "hoverlabel": {
           "align": "left"
          },
          "hovermode": "closest",
          "mapbox": {
           "style": "light"
          },
          "paper_bgcolor": "white",
          "plot_bgcolor": "#E5ECF6",
          "polar": {
           "angularaxis": {
            "gridcolor": "white",
            "linecolor": "white",
            "ticks": ""
           },
           "bgcolor": "#E5ECF6",
           "radialaxis": {
            "gridcolor": "white",
            "linecolor": "white",
            "ticks": ""
           }
          },
          "scene": {
           "xaxis": {
            "backgroundcolor": "#E5ECF6",
            "gridcolor": "white",
            "gridwidth": 2,
            "linecolor": "white",
            "showbackground": true,
            "ticks": "",
            "zerolinecolor": "white"
           },
           "yaxis": {
            "backgroundcolor": "#E5ECF6",
            "gridcolor": "white",
            "gridwidth": 2,
            "linecolor": "white",
            "showbackground": true,
            "ticks": "",
            "zerolinecolor": "white"
           },
           "zaxis": {
            "backgroundcolor": "#E5ECF6",
            "gridcolor": "white",
            "gridwidth": 2,
            "linecolor": "white",
            "showbackground": true,
            "ticks": "",
            "zerolinecolor": "white"
           }
          },
          "shapedefaults": {
           "line": {
            "color": "#2a3f5f"
           }
          },
          "ternary": {
           "aaxis": {
            "gridcolor": "white",
            "linecolor": "white",
            "ticks": ""
           },
           "baxis": {
            "gridcolor": "white",
            "linecolor": "white",
            "ticks": ""
           },
           "bgcolor": "#E5ECF6",
           "caxis": {
            "gridcolor": "white",
            "linecolor": "white",
            "ticks": ""
           }
          },
          "title": {
           "x": 0.05
          },
          "xaxis": {
           "automargin": true,
           "gridcolor": "white",
           "linecolor": "white",
           "ticks": "",
           "title": {
            "standoff": 15
           },
           "zerolinecolor": "white",
           "zerolinewidth": 2
          },
          "yaxis": {
           "automargin": true,
           "gridcolor": "white",
           "linecolor": "white",
           "ticks": "",
           "title": {
            "standoff": 15
           },
           "zerolinecolor": "white",
           "zerolinewidth": 2
          }
         }
        },
        "title": {
         "text": "Bitcoin"
        },
        "xaxis": {
         "title": {
          "text": "Datetime"
         }
        },
        "yaxis": {
         "title": {
          "text": "Price (vs EUR)"
         }
        }
       }
      }
     },
     "metadata": {},
     "output_type": "display_data"
    }
   ],
   "source": [
    "# Add data\n",
    "m = [1,2,3,4,5,6,7,8,9,10,11,12]\n",
    "\n",
    "v = [28.8, 28.5, 37.0, 56.8, 69.7, 79.7, 78.5, 77.8, 74.1, 62.6, 45.3, 39.9]\n",
    "\n",
    "def generate_price_line_chart(x,y,split_index,coin_name='COINNAME'):\n",
    "    \n",
    "    fig = go.Figure()\n",
    "    # Create and style traces\n",
    "    fig.add_trace(go.Scatter(x=x[0:split_index+1], y=y[0:split_index+1], name='Historical',\n",
    "                            line=dict(color='firebrick', width=3)))\n",
    "\n",
    "    fig.add_trace(go.Scatter(x=x[split_index:], y=y[split_index:], name='Predicted',\n",
    "                            line=dict(color='orange', width=2)))                    \n",
    "    # Edit the layout\n",
    "    fig.update_layout(title=f'{coin_name}',\n",
    "                    xaxis_title='Datetime',\n",
    "                    yaxis_title='Price (vs EUR)')\n",
    "\n",
    "    return fig\n",
    "generate_price_line_chart(m,v,9,'Bitcoin')"
   ]
  },
  {
   "cell_type": "code",
   "execution_count": 65,
   "metadata": {},
   "outputs": [],
   "source": [
    "def data_make_df(raw):\n",
    "    df = pd.DataFrame(raw['prices'], columns=['timestamp', 'price'])\n",
    "    df2 = pd.DataFrame(raw['market_caps'], columns=['ts', 'market_caps'])\n",
    "    df3 = pd.DataFrame(raw['total_volumes'], columns=['ts', 'total_volumes'])\n",
    "    df['market_caps'] = df2['market_caps']\n",
    "    df['total_volumes'] = df3['total_volumes']\n",
    "    df['datetime'] = pd.to_datetime(df['timestamp'], unit='ms')\n",
    "    \n",
    "    df = df.set_index('datetime')\n",
    "    \n",
    "    return df"
   ]
  },
  {
   "cell_type": "code",
   "execution_count": null,
   "metadata": {},
   "outputs": [],
   "source": []
  },
  {
   "cell_type": "code",
   "execution_count": 58,
   "metadata": {},
   "outputs": [],
   "source": [
    "from pycoingecko import CoinGeckoAPI\n",
    "cg = CoinGeckoAPI()\n",
    "import requests\n",
    "\n",
    "def temp_get_data():\n",
    "    gecko_raw = cg.get_coin_market_chart_range_by_id(id='dogecoin',\n",
    "                                            vs_currency='eur',\n",
    "                                            from_timestamp='1637696488',\n",
    "                                            to_timestamp='1637872888'\n",
    "                                            )\n",
    "\n",
    "    x= [str(x) for x in data_make_df(gecko_raw).reset_index().datetime.values]\n",
    "    y= data_make_df(gecko_raw).reset_index().price.values\n",
    "    return x,y\n",
    "\n",
    "\n",
    "def get_data(coin_name):    \n",
    "   obj= requests.get('URL TO API /{coin_name}').json()['Data']\n",
    "   print(f\"Fetched data for {obj['name']}\")\n",
    "   ## Evenauly filter \n",
    "   x= obj[\"data\"][\"x\"]\n",
    "   y= obj[\"data\"][\"y\"]\n",
    "   return x,y,obj['split_idx']\n",
    "   "
   ]
  },
  {
   "cell_type": "code",
   "execution_count": 72,
   "metadata": {},
   "outputs": [
    {
     "data": {
      "text/plain": [
       "['2021-11-23T20:00:57.431000000',\n",
       " '2021-11-23T21:00:28.929000000',\n",
       " '2021-11-23T22:00:50.061000000',\n",
       " '2021-11-23T23:00:17.967000000',\n",
       " '2021-11-24T00:00:44.288000000',\n",
       " '2021-11-24T01:08:19.029000000',\n",
       " '2021-11-24T02:01:50.540000000',\n",
       " '2021-11-24T03:02:35.260000000',\n",
       " '2021-11-24T04:03:55.089000000',\n",
       " '2021-11-24T05:01:12.892000000',\n",
       " '2021-11-24T06:01:41.071000000',\n",
       " '2021-11-24T07:03:11.502000000',\n",
       " '2021-11-24T08:00:10.351000000',\n",
       " '2021-11-24T09:02:14.894000000',\n",
       " '2021-11-24T10:01:21.856000000',\n",
       " '2021-11-24T11:00:46.153000000',\n",
       " '2021-11-24T12:02:01.754000000',\n",
       " '2021-11-24T13:00:47.683000000',\n",
       " '2021-11-24T14:04:01.686000000',\n",
       " '2021-11-24T15:05:29.092000000',\n",
       " '2021-11-24T16:02:48.826000000',\n",
       " '2021-11-24T17:02:09.826000000',\n",
       " '2021-11-24T18:02:51.536000000',\n",
       " '2021-11-24T19:01:47.985000000',\n",
       " '2021-11-24T20:02:32.828000000',\n",
       " '2021-11-24T21:02:16.073000000',\n",
       " '2021-11-24T22:07:46.380000000',\n",
       " '2021-11-24T23:09:04.678000000',\n",
       " '2021-11-25T00:01:43.939000000',\n",
       " '2021-11-25T01:02:15.527000000',\n",
       " '2021-11-25T02:02:16.311000000',\n",
       " '2021-11-25T03:02:28.252000000',\n",
       " '2021-11-25T04:03:20.391000000',\n",
       " '2021-11-25T05:04:11.555000000',\n",
       " '2021-11-25T06:01:59.903000000',\n",
       " '2021-11-25T07:01:58.827000000',\n",
       " '2021-11-25T08:02:00.726000000',\n",
       " '2021-11-25T09:01:24.065000000',\n",
       " '2021-11-25T10:03:02.717000000',\n",
       " '2021-11-25T11:00:54.273000000',\n",
       " '2021-11-25T12:03:00.133000000',\n",
       " '2021-11-25T13:01:08.269000000',\n",
       " '2021-11-25T14:01:44.738000000',\n",
       " '2021-11-25T15:02:37.403000000',\n",
       " '2021-11-25T16:01:26.656000000',\n",
       " '2021-11-25T17:04:06.773000000',\n",
       " '2021-11-25T18:01:32.340000000',\n",
       " '2021-11-25T19:01:11.624000000',\n",
       " '2021-11-25T20:03:37.911000000']"
      ]
     },
     "execution_count": 72,
     "metadata": {},
     "output_type": "execute_result"
    }
   ],
   "source": [
    "\n",
    "\n"
   ]
  },
  {
   "cell_type": "code",
   "execution_count": 73,
   "metadata": {},
   "outputs": [
    {
     "data": {
      "application/vnd.plotly.v1+json": {
       "config": {
        "plotlyServerURL": "https://plot.ly"
       },
       "data": [
        {
         "line": {
          "color": "firebrick",
          "width": 3
         },
         "name": "Historical",
         "type": "scatter",
         "x": [
          "2021-11-23T20:00:57.431000000",
          "2021-11-23T21:00:28.929000000",
          "2021-11-23T22:00:50.061000000",
          "2021-11-23T23:00:17.967000000",
          "2021-11-24T00:00:44.288000000",
          "2021-11-24T01:08:19.029000000",
          "2021-11-24T02:01:50.540000000",
          "2021-11-24T03:02:35.260000000",
          "2021-11-24T04:03:55.089000000",
          "2021-11-24T05:01:12.892000000",
          "2021-11-24T06:01:41.071000000",
          "2021-11-24T07:03:11.502000000",
          "2021-11-24T08:00:10.351000000",
          "2021-11-24T09:02:14.894000000",
          "2021-11-24T10:01:21.856000000",
          "2021-11-24T11:00:46.153000000",
          "2021-11-24T12:02:01.754000000",
          "2021-11-24T13:00:47.683000000",
          "2021-11-24T14:04:01.686000000",
          "2021-11-24T15:05:29.092000000",
          "2021-11-24T16:02:48.826000000",
          "2021-11-24T17:02:09.826000000",
          "2021-11-24T18:02:51.536000000",
          "2021-11-24T19:01:47.985000000",
          "2021-11-24T20:02:32.828000000",
          "2021-11-24T21:02:16.073000000"
         ],
         "y": [
          0.20083710098727045,
          0.20109045188424743,
          0.20058640991743829,
          0.19970449784053426,
          0.20148778392377148,
          0.20100483159604327,
          0.20074785105949822,
          0.19754555847574634,
          0.19813439968141788,
          0.1984306531758356,
          0.19840666675937246,
          0.19740229994609482,
          0.19663622760507873,
          0.1983160611684613,
          0.19721625782432164,
          0.19470417755443148,
          0.19628670684162006,
          0.19474202907061502,
          0.19292422476572274,
          0.19078111453753716,
          0.19434649243679708,
          0.1919991574849023,
          0.19383680072382273,
          0.19309057975108326,
          0.1930708783945245,
          0.19470409792185098
         ]
        },
        {
         "line": {
          "color": "orange",
          "width": 2
         },
         "name": "Predicted",
         "type": "scatter",
         "x": [
          "2021-11-24T21:02:16.073000000",
          "2021-11-24T22:07:46.380000000",
          "2021-11-24T23:09:04.678000000",
          "2021-11-25T00:01:43.939000000",
          "2021-11-25T01:02:15.527000000",
          "2021-11-25T02:02:16.311000000",
          "2021-11-25T03:02:28.252000000",
          "2021-11-25T04:03:20.391000000",
          "2021-11-25T05:04:11.555000000",
          "2021-11-25T06:01:59.903000000",
          "2021-11-25T07:01:58.827000000",
          "2021-11-25T08:02:00.726000000",
          "2021-11-25T09:01:24.065000000",
          "2021-11-25T10:03:02.717000000",
          "2021-11-25T11:00:54.273000000",
          "2021-11-25T12:03:00.133000000",
          "2021-11-25T13:01:08.269000000",
          "2021-11-25T14:01:44.738000000",
          "2021-11-25T15:02:37.403000000",
          "2021-11-25T16:01:26.656000000",
          "2021-11-25T17:04:06.773000000",
          "2021-11-25T18:01:32.340000000",
          "2021-11-25T19:01:11.624000000",
          "2021-11-25T20:03:37.911000000"
         ],
         "y": [
          0.19470409792185098,
          0.19478205911775873,
          0.19391813247954737,
          0.1948150246626113,
          0.19492302306450401,
          0.19578518094736277,
          0.19675298478573033,
          0.1961971914985809,
          0.19424845971588353,
          0.19389080602547132,
          0.19385968936613396,
          0.19440165191613706,
          0.19395442198094415,
          0.19309619183315854,
          0.19536540738029237,
          0.19569781001266692,
          0.19909398108824314,
          0.197672503917245,
          0.19906788644142914,
          0.19799149025523163,
          0.19853473297215884,
          0.20111254468180714,
          0.2009952918385771,
          0.1995341644913457
         ]
        }
       ],
       "layout": {
        "template": {
         "data": {
          "bar": [
           {
            "error_x": {
             "color": "#2a3f5f"
            },
            "error_y": {
             "color": "#2a3f5f"
            },
            "marker": {
             "line": {
              "color": "#E5ECF6",
              "width": 0.5
             }
            },
            "type": "bar"
           }
          ],
          "barpolar": [
           {
            "marker": {
             "line": {
              "color": "#E5ECF6",
              "width": 0.5
             }
            },
            "type": "barpolar"
           }
          ],
          "carpet": [
           {
            "aaxis": {
             "endlinecolor": "#2a3f5f",
             "gridcolor": "white",
             "linecolor": "white",
             "minorgridcolor": "white",
             "startlinecolor": "#2a3f5f"
            },
            "baxis": {
             "endlinecolor": "#2a3f5f",
             "gridcolor": "white",
             "linecolor": "white",
             "minorgridcolor": "white",
             "startlinecolor": "#2a3f5f"
            },
            "type": "carpet"
           }
          ],
          "choropleth": [
           {
            "colorbar": {
             "outlinewidth": 0,
             "ticks": ""
            },
            "type": "choropleth"
           }
          ],
          "contour": [
           {
            "colorbar": {
             "outlinewidth": 0,
             "ticks": ""
            },
            "colorscale": [
             [
              0,
              "#0d0887"
             ],
             [
              0.1111111111111111,
              "#46039f"
             ],
             [
              0.2222222222222222,
              "#7201a8"
             ],
             [
              0.3333333333333333,
              "#9c179e"
             ],
             [
              0.4444444444444444,
              "#bd3786"
             ],
             [
              0.5555555555555556,
              "#d8576b"
             ],
             [
              0.6666666666666666,
              "#ed7953"
             ],
             [
              0.7777777777777778,
              "#fb9f3a"
             ],
             [
              0.8888888888888888,
              "#fdca26"
             ],
             [
              1,
              "#f0f921"
             ]
            ],
            "type": "contour"
           }
          ],
          "contourcarpet": [
           {
            "colorbar": {
             "outlinewidth": 0,
             "ticks": ""
            },
            "type": "contourcarpet"
           }
          ],
          "heatmap": [
           {
            "colorbar": {
             "outlinewidth": 0,
             "ticks": ""
            },
            "colorscale": [
             [
              0,
              "#0d0887"
             ],
             [
              0.1111111111111111,
              "#46039f"
             ],
             [
              0.2222222222222222,
              "#7201a8"
             ],
             [
              0.3333333333333333,
              "#9c179e"
             ],
             [
              0.4444444444444444,
              "#bd3786"
             ],
             [
              0.5555555555555556,
              "#d8576b"
             ],
             [
              0.6666666666666666,
              "#ed7953"
             ],
             [
              0.7777777777777778,
              "#fb9f3a"
             ],
             [
              0.8888888888888888,
              "#fdca26"
             ],
             [
              1,
              "#f0f921"
             ]
            ],
            "type": "heatmap"
           }
          ],
          "heatmapgl": [
           {
            "colorbar": {
             "outlinewidth": 0,
             "ticks": ""
            },
            "colorscale": [
             [
              0,
              "#0d0887"
             ],
             [
              0.1111111111111111,
              "#46039f"
             ],
             [
              0.2222222222222222,
              "#7201a8"
             ],
             [
              0.3333333333333333,
              "#9c179e"
             ],
             [
              0.4444444444444444,
              "#bd3786"
             ],
             [
              0.5555555555555556,
              "#d8576b"
             ],
             [
              0.6666666666666666,
              "#ed7953"
             ],
             [
              0.7777777777777778,
              "#fb9f3a"
             ],
             [
              0.8888888888888888,
              "#fdca26"
             ],
             [
              1,
              "#f0f921"
             ]
            ],
            "type": "heatmapgl"
           }
          ],
          "histogram": [
           {
            "marker": {
             "colorbar": {
              "outlinewidth": 0,
              "ticks": ""
             }
            },
            "type": "histogram"
           }
          ],
          "histogram2d": [
           {
            "colorbar": {
             "outlinewidth": 0,
             "ticks": ""
            },
            "colorscale": [
             [
              0,
              "#0d0887"
             ],
             [
              0.1111111111111111,
              "#46039f"
             ],
             [
              0.2222222222222222,
              "#7201a8"
             ],
             [
              0.3333333333333333,
              "#9c179e"
             ],
             [
              0.4444444444444444,
              "#bd3786"
             ],
             [
              0.5555555555555556,
              "#d8576b"
             ],
             [
              0.6666666666666666,
              "#ed7953"
             ],
             [
              0.7777777777777778,
              "#fb9f3a"
             ],
             [
              0.8888888888888888,
              "#fdca26"
             ],
             [
              1,
              "#f0f921"
             ]
            ],
            "type": "histogram2d"
           }
          ],
          "histogram2dcontour": [
           {
            "colorbar": {
             "outlinewidth": 0,
             "ticks": ""
            },
            "colorscale": [
             [
              0,
              "#0d0887"
             ],
             [
              0.1111111111111111,
              "#46039f"
             ],
             [
              0.2222222222222222,
              "#7201a8"
             ],
             [
              0.3333333333333333,
              "#9c179e"
             ],
             [
              0.4444444444444444,
              "#bd3786"
             ],
             [
              0.5555555555555556,
              "#d8576b"
             ],
             [
              0.6666666666666666,
              "#ed7953"
             ],
             [
              0.7777777777777778,
              "#fb9f3a"
             ],
             [
              0.8888888888888888,
              "#fdca26"
             ],
             [
              1,
              "#f0f921"
             ]
            ],
            "type": "histogram2dcontour"
           }
          ],
          "mesh3d": [
           {
            "colorbar": {
             "outlinewidth": 0,
             "ticks": ""
            },
            "type": "mesh3d"
           }
          ],
          "parcoords": [
           {
            "line": {
             "colorbar": {
              "outlinewidth": 0,
              "ticks": ""
             }
            },
            "type": "parcoords"
           }
          ],
          "pie": [
           {
            "automargin": true,
            "type": "pie"
           }
          ],
          "scatter": [
           {
            "marker": {
             "colorbar": {
              "outlinewidth": 0,
              "ticks": ""
             }
            },
            "type": "scatter"
           }
          ],
          "scatter3d": [
           {
            "line": {
             "colorbar": {
              "outlinewidth": 0,
              "ticks": ""
             }
            },
            "marker": {
             "colorbar": {
              "outlinewidth": 0,
              "ticks": ""
             }
            },
            "type": "scatter3d"
           }
          ],
          "scattercarpet": [
           {
            "marker": {
             "colorbar": {
              "outlinewidth": 0,
              "ticks": ""
             }
            },
            "type": "scattercarpet"
           }
          ],
          "scattergeo": [
           {
            "marker": {
             "colorbar": {
              "outlinewidth": 0,
              "ticks": ""
             }
            },
            "type": "scattergeo"
           }
          ],
          "scattergl": [
           {
            "marker": {
             "colorbar": {
              "outlinewidth": 0,
              "ticks": ""
             }
            },
            "type": "scattergl"
           }
          ],
          "scattermapbox": [
           {
            "marker": {
             "colorbar": {
              "outlinewidth": 0,
              "ticks": ""
             }
            },
            "type": "scattermapbox"
           }
          ],
          "scatterpolar": [
           {
            "marker": {
             "colorbar": {
              "outlinewidth": 0,
              "ticks": ""
             }
            },
            "type": "scatterpolar"
           }
          ],
          "scatterpolargl": [
           {
            "marker": {
             "colorbar": {
              "outlinewidth": 0,
              "ticks": ""
             }
            },
            "type": "scatterpolargl"
           }
          ],
          "scatterternary": [
           {
            "marker": {
             "colorbar": {
              "outlinewidth": 0,
              "ticks": ""
             }
            },
            "type": "scatterternary"
           }
          ],
          "surface": [
           {
            "colorbar": {
             "outlinewidth": 0,
             "ticks": ""
            },
            "colorscale": [
             [
              0,
              "#0d0887"
             ],
             [
              0.1111111111111111,
              "#46039f"
             ],
             [
              0.2222222222222222,
              "#7201a8"
             ],
             [
              0.3333333333333333,
              "#9c179e"
             ],
             [
              0.4444444444444444,
              "#bd3786"
             ],
             [
              0.5555555555555556,
              "#d8576b"
             ],
             [
              0.6666666666666666,
              "#ed7953"
             ],
             [
              0.7777777777777778,
              "#fb9f3a"
             ],
             [
              0.8888888888888888,
              "#fdca26"
             ],
             [
              1,
              "#f0f921"
             ]
            ],
            "type": "surface"
           }
          ],
          "table": [
           {
            "cells": {
             "fill": {
              "color": "#EBF0F8"
             },
             "line": {
              "color": "white"
             }
            },
            "header": {
             "fill": {
              "color": "#C8D4E3"
             },
             "line": {
              "color": "white"
             }
            },
            "type": "table"
           }
          ]
         },
         "layout": {
          "annotationdefaults": {
           "arrowcolor": "#2a3f5f",
           "arrowhead": 0,
           "arrowwidth": 1
          },
          "coloraxis": {
           "colorbar": {
            "outlinewidth": 0,
            "ticks": ""
           }
          },
          "colorscale": {
           "diverging": [
            [
             0,
             "#8e0152"
            ],
            [
             0.1,
             "#c51b7d"
            ],
            [
             0.2,
             "#de77ae"
            ],
            [
             0.3,
             "#f1b6da"
            ],
            [
             0.4,
             "#fde0ef"
            ],
            [
             0.5,
             "#f7f7f7"
            ],
            [
             0.6,
             "#e6f5d0"
            ],
            [
             0.7,
             "#b8e186"
            ],
            [
             0.8,
             "#7fbc41"
            ],
            [
             0.9,
             "#4d9221"
            ],
            [
             1,
             "#276419"
            ]
           ],
           "sequential": [
            [
             0,
             "#0d0887"
            ],
            [
             0.1111111111111111,
             "#46039f"
            ],
            [
             0.2222222222222222,
             "#7201a8"
            ],
            [
             0.3333333333333333,
             "#9c179e"
            ],
            [
             0.4444444444444444,
             "#bd3786"
            ],
            [
             0.5555555555555556,
             "#d8576b"
            ],
            [
             0.6666666666666666,
             "#ed7953"
            ],
            [
             0.7777777777777778,
             "#fb9f3a"
            ],
            [
             0.8888888888888888,
             "#fdca26"
            ],
            [
             1,
             "#f0f921"
            ]
           ],
           "sequentialminus": [
            [
             0,
             "#0d0887"
            ],
            [
             0.1111111111111111,
             "#46039f"
            ],
            [
             0.2222222222222222,
             "#7201a8"
            ],
            [
             0.3333333333333333,
             "#9c179e"
            ],
            [
             0.4444444444444444,
             "#bd3786"
            ],
            [
             0.5555555555555556,
             "#d8576b"
            ],
            [
             0.6666666666666666,
             "#ed7953"
            ],
            [
             0.7777777777777778,
             "#fb9f3a"
            ],
            [
             0.8888888888888888,
             "#fdca26"
            ],
            [
             1,
             "#f0f921"
            ]
           ]
          },
          "colorway": [
           "#636efa",
           "#EF553B",
           "#00cc96",
           "#ab63fa",
           "#FFA15A",
           "#19d3f3",
           "#FF6692",
           "#B6E880",
           "#FF97FF",
           "#FECB52"
          ],
          "font": {
           "color": "#2a3f5f"
          },
          "geo": {
           "bgcolor": "white",
           "lakecolor": "white",
           "landcolor": "#E5ECF6",
           "showlakes": true,
           "showland": true,
           "subunitcolor": "white"
          },
          "hoverlabel": {
           "align": "left"
          },
          "hovermode": "closest",
          "mapbox": {
           "style": "light"
          },
          "paper_bgcolor": "white",
          "plot_bgcolor": "#E5ECF6",
          "polar": {
           "angularaxis": {
            "gridcolor": "white",
            "linecolor": "white",
            "ticks": ""
           },
           "bgcolor": "#E5ECF6",
           "radialaxis": {
            "gridcolor": "white",
            "linecolor": "white",
            "ticks": ""
           }
          },
          "scene": {
           "xaxis": {
            "backgroundcolor": "#E5ECF6",
            "gridcolor": "white",
            "gridwidth": 2,
            "linecolor": "white",
            "showbackground": true,
            "ticks": "",
            "zerolinecolor": "white"
           },
           "yaxis": {
            "backgroundcolor": "#E5ECF6",
            "gridcolor": "white",
            "gridwidth": 2,
            "linecolor": "white",
            "showbackground": true,
            "ticks": "",
            "zerolinecolor": "white"
           },
           "zaxis": {
            "backgroundcolor": "#E5ECF6",
            "gridcolor": "white",
            "gridwidth": 2,
            "linecolor": "white",
            "showbackground": true,
            "ticks": "",
            "zerolinecolor": "white"
           }
          },
          "shapedefaults": {
           "line": {
            "color": "#2a3f5f"
           }
          },
          "ternary": {
           "aaxis": {
            "gridcolor": "white",
            "linecolor": "white",
            "ticks": ""
           },
           "baxis": {
            "gridcolor": "white",
            "linecolor": "white",
            "ticks": ""
           },
           "bgcolor": "#E5ECF6",
           "caxis": {
            "gridcolor": "white",
            "linecolor": "white",
            "ticks": ""
           }
          },
          "title": {
           "x": 0.05
          },
          "xaxis": {
           "automargin": true,
           "gridcolor": "white",
           "linecolor": "white",
           "ticks": "",
           "title": {
            "standoff": 15
           },
           "zerolinecolor": "white",
           "zerolinewidth": 2
          },
          "yaxis": {
           "automargin": true,
           "gridcolor": "white",
           "linecolor": "white",
           "ticks": "",
           "title": {
            "standoff": 15
           },
           "zerolinecolor": "white",
           "zerolinewidth": 2
          }
         }
        },
        "title": {
         "text": "Dogecoin"
        },
        "xaxis": {
         "title": {
          "text": "Datetime"
         }
        },
        "yaxis": {
         "title": {
          "text": "Price (vs EUR)"
         }
        }
       }
      }
     },
     "metadata": {},
     "output_type": "display_data"
    }
   ],
   "source": [
    "generate_price_line_chart(x,y,len(x)-24,'Dogecoin')"
   ]
  },
  {
   "cell_type": "code",
   "execution_count": 77,
   "metadata": {},
   "outputs": [
    {
     "data": {
      "text/plain": [
       "array([0.2008371 , 0.20109045, 0.20058641, 0.1997045 , 0.20148778,\n",
       "       0.20100483, 0.20074785, 0.19754556, 0.1981344 , 0.19843065,\n",
       "       0.19840667, 0.1974023 , 0.19663623, 0.19831606, 0.19721626,\n",
       "       0.19470418, 0.19628671, 0.19474203, 0.19292422, 0.19078111,\n",
       "       0.19434649, 0.19199916, 0.1938368 , 0.19309058, 0.19307088,\n",
       "       0.1947041 , 0.19478206, 0.19391813, 0.19481502, 0.19492302,\n",
       "       0.19578518, 0.19675298, 0.19619719, 0.19424846, 0.19389081,\n",
       "       0.19385969, 0.19440165, 0.19395442, 0.19309619, 0.19536541,\n",
       "       0.19569781, 0.19909398, 0.1976725 , 0.19906789, 0.19799149,\n",
       "       0.19853473, 0.20111254, 0.20099529, 0.19953416])"
      ]
     },
     "execution_count": 77,
     "metadata": {},
     "output_type": "execute_result"
    }
   ],
   "source": [
    "y"
   ]
  },
  {
   "cell_type": "code",
   "execution_count": 78,
   "metadata": {},
   "outputs": [
    {
     "data": {
      "text/plain": [
       "['2021-11-23T20:00:57.431000000',\n",
       " '2021-11-23T21:00:28.929000000',\n",
       " '2021-11-23T22:00:50.061000000',\n",
       " '2021-11-23T23:00:17.967000000',\n",
       " '2021-11-24T00:00:44.288000000',\n",
       " '2021-11-24T01:08:19.029000000',\n",
       " '2021-11-24T02:01:50.540000000',\n",
       " '2021-11-24T03:02:35.260000000',\n",
       " '2021-11-24T04:03:55.089000000',\n",
       " '2021-11-24T05:01:12.892000000',\n",
       " '2021-11-24T06:01:41.071000000',\n",
       " '2021-11-24T07:03:11.502000000',\n",
       " '2021-11-24T08:00:10.351000000',\n",
       " '2021-11-24T09:02:14.894000000',\n",
       " '2021-11-24T10:01:21.856000000',\n",
       " '2021-11-24T11:00:46.153000000',\n",
       " '2021-11-24T12:02:01.754000000',\n",
       " '2021-11-24T13:00:47.683000000',\n",
       " '2021-11-24T14:04:01.686000000',\n",
       " '2021-11-24T15:05:29.092000000',\n",
       " '2021-11-24T16:02:48.826000000',\n",
       " '2021-11-24T17:02:09.826000000',\n",
       " '2021-11-24T18:02:51.536000000',\n",
       " '2021-11-24T19:01:47.985000000',\n",
       " '2021-11-24T20:02:32.828000000',\n",
       " '2021-11-24T21:02:16.073000000',\n",
       " '2021-11-24T22:07:46.380000000',\n",
       " '2021-11-24T23:09:04.678000000',\n",
       " '2021-11-25T00:01:43.939000000',\n",
       " '2021-11-25T01:02:15.527000000',\n",
       " '2021-11-25T02:02:16.311000000',\n",
       " '2021-11-25T03:02:28.252000000',\n",
       " '2021-11-25T04:03:20.391000000',\n",
       " '2021-11-25T05:04:11.555000000',\n",
       " '2021-11-25T06:01:59.903000000',\n",
       " '2021-11-25T07:01:58.827000000',\n",
       " '2021-11-25T08:02:00.726000000',\n",
       " '2021-11-25T09:01:24.065000000',\n",
       " '2021-11-25T10:03:02.717000000',\n",
       " '2021-11-25T11:00:54.273000000',\n",
       " '2021-11-25T12:03:00.133000000',\n",
       " '2021-11-25T13:01:08.269000000',\n",
       " '2021-11-25T14:01:44.738000000',\n",
       " '2021-11-25T15:02:37.403000000',\n",
       " '2021-11-25T16:01:26.656000000',\n",
       " '2021-11-25T17:04:06.773000000',\n",
       " '2021-11-25T18:01:32.340000000',\n",
       " '2021-11-25T19:01:11.624000000',\n",
       " '2021-11-25T20:03:37.911000000']"
      ]
     },
     "execution_count": 78,
     "metadata": {},
     "output_type": "execute_result"
    }
   ],
   "source": [
    "x"
   ]
  }
 ],
 "metadata": {
  "interpreter": {
   "hash": "3f616e28bd984c9067f6f77cf5158c0db7f54a2edf1142511c6615f66cba08b7"
  },
  "kernelspec": {
   "display_name": "Python 3.7.4 64-bit ('base': conda)",
   "language": "python",
   "name": "python3"
  },
  "language_info": {
   "codemirror_mode": {
    "name": "ipython",
    "version": 3
   },
   "file_extension": ".py",
   "mimetype": "text/x-python",
   "name": "python",
   "nbconvert_exporter": "python",
   "pygments_lexer": "ipython3",
   "version": "3.8.12"
  },
  "orig_nbformat": 4
 },
 "nbformat": 4,
 "nbformat_minor": 2
}
